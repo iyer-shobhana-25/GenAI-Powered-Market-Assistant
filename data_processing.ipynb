{
 "cells": [
  {
   "cell_type": "code",
   "execution_count": 43,
   "id": "0bb9e658",
   "metadata": {},
   "outputs": [
    {
     "name": "stdout",
     "output_type": "stream",
     "text": [
      "Requirement already satisfied: pandas in /Library/Frameworks/Python.framework/Versions/3.12/lib/python3.12/site-packages (2.3.3)\n",
      "Requirement already satisfied: xgboost in /Library/Frameworks/Python.framework/Versions/3.12/lib/python3.12/site-packages (3.1.1)\n",
      "Requirement already satisfied: scikit-learn in /Library/Frameworks/Python.framework/Versions/3.12/lib/python3.12/site-packages (1.7.1)\n",
      "Requirement already satisfied: numpy in /Library/Frameworks/Python.framework/Versions/3.12/lib/python3.12/site-packages (2.3.2)\n",
      "Collecting matplotlib\n",
      "  Downloading matplotlib-3.10.7-cp312-cp312-macosx_11_0_arm64.whl.metadata (11 kB)\n",
      "Requirement already satisfied: python-dateutil>=2.8.2 in /Users/shobhanaiyer/Library/Python/3.12/lib/python/site-packages (from pandas) (2.9.0.post0)\n",
      "Requirement already satisfied: pytz>=2020.1 in /Library/Frameworks/Python.framework/Versions/3.12/lib/python3.12/site-packages (from pandas) (2025.2)\n",
      "Requirement already satisfied: tzdata>=2022.7 in /Library/Frameworks/Python.framework/Versions/3.12/lib/python3.12/site-packages (from pandas) (2025.2)\n",
      "Requirement already satisfied: scipy in /Library/Frameworks/Python.framework/Versions/3.12/lib/python3.12/site-packages (from xgboost) (1.16.1)\n",
      "Requirement already satisfied: joblib>=1.2.0 in /Library/Frameworks/Python.framework/Versions/3.12/lib/python3.12/site-packages (from scikit-learn) (1.5.2)\n",
      "Requirement already satisfied: threadpoolctl>=3.1.0 in /Library/Frameworks/Python.framework/Versions/3.12/lib/python3.12/site-packages (from scikit-learn) (3.6.0)\n",
      "Collecting contourpy>=1.0.1 (from matplotlib)\n",
      "  Downloading contourpy-1.3.3-cp312-cp312-macosx_11_0_arm64.whl.metadata (5.5 kB)\n",
      "Collecting cycler>=0.10 (from matplotlib)\n",
      "  Downloading cycler-0.12.1-py3-none-any.whl.metadata (3.8 kB)\n",
      "Collecting fonttools>=4.22.0 (from matplotlib)\n",
      "  Downloading fonttools-4.60.1-cp312-cp312-macosx_10_13_universal2.whl.metadata (112 kB)\n",
      "Collecting kiwisolver>=1.3.1 (from matplotlib)\n",
      "  Downloading kiwisolver-1.4.9-cp312-cp312-macosx_11_0_arm64.whl.metadata (6.3 kB)\n",
      "Requirement already satisfied: packaging>=20.0 in /Users/shobhanaiyer/Library/Python/3.12/lib/python/site-packages (from matplotlib) (25.0)\n",
      "Requirement already satisfied: pillow>=8 in /Library/Frameworks/Python.framework/Versions/3.12/lib/python3.12/site-packages (from matplotlib) (11.3.0)\n",
      "Requirement already satisfied: pyparsing>=3 in /Library/Frameworks/Python.framework/Versions/3.12/lib/python3.12/site-packages (from matplotlib) (3.2.3)\n",
      "Requirement already satisfied: six>=1.5 in /Users/shobhanaiyer/Library/Python/3.12/lib/python/site-packages (from python-dateutil>=2.8.2->pandas) (1.17.0)\n",
      "Downloading matplotlib-3.10.7-cp312-cp312-macosx_11_0_arm64.whl (8.1 MB)\n",
      "\u001b[2K   \u001b[90m━━━━━━━━━━━━━━━━━━━━━━━━━━━━━━━━━━━━━━━━\u001b[0m \u001b[32m8.1/8.1 MB\u001b[0m \u001b[31m24.4 MB/s\u001b[0m eta \u001b[36m0:00:00\u001b[0ma \u001b[36m0:00:01\u001b[0m\n",
      "\u001b[?25hDownloading contourpy-1.3.3-cp312-cp312-macosx_11_0_arm64.whl (273 kB)\n",
      "Downloading cycler-0.12.1-py3-none-any.whl (8.3 kB)\n",
      "Downloading fonttools-4.60.1-cp312-cp312-macosx_10_13_universal2.whl (2.8 MB)\n",
      "\u001b[2K   \u001b[90m━━━━━━━━━━━━━━━━━━━━━━━━━━━━━━━━━━━━━━━━\u001b[0m \u001b[32m2.8/2.8 MB\u001b[0m \u001b[31m28.9 MB/s\u001b[0m eta \u001b[36m0:00:00\u001b[0m\n",
      "\u001b[?25hDownloading kiwisolver-1.4.9-cp312-cp312-macosx_11_0_arm64.whl (64 kB)\n",
      "Installing collected packages: kiwisolver, fonttools, cycler, contourpy, matplotlib\n",
      "Successfully installed contourpy-1.3.3 cycler-0.12.1 fonttools-4.60.1 kiwisolver-1.4.9 matplotlib-3.10.7\n",
      "\n",
      "\u001b[1m[\u001b[0m\u001b[34;49mnotice\u001b[0m\u001b[1;39;49m]\u001b[0m\u001b[39;49m A new release of pip is available: \u001b[0m\u001b[31;49m25.0.1\u001b[0m\u001b[39;49m -> \u001b[0m\u001b[32;49m25.3\u001b[0m\n",
      "\u001b[1m[\u001b[0m\u001b[34;49mnotice\u001b[0m\u001b[1;39;49m]\u001b[0m\u001b[39;49m To update, run: \u001b[0m\u001b[32;49mpip3 install --upgrade pip\u001b[0m\n",
      "Note: you may need to restart the kernel to use updated packages.\n"
     ]
    }
   ],
   "source": [
    "%pip install pandas xgboost scikit-learn numpy matplotlib --no-cache-dir"
   ]
  },
  {
   "cell_type": "code",
   "execution_count": 13,
   "id": "4af9b93e",
   "metadata": {},
   "outputs": [],
   "source": [
    "import pandas as pd\n",
    "\n",
    "df_1 = pd.read_csv(\"hist_india_vix_-01-01-2023-to-01-01-2024.csv\")\n",
    "df_2 = pd.read_csv(\"hist_india_vix_-02-01-2024-to-01-01-2025.csv\")\n",
    "df_3 = pd.concat([df_1,df_2])\n",
    "\n"
   ]
  },
  {
   "cell_type": "code",
   "execution_count": 14,
   "id": "d8340dd5",
   "metadata": {},
   "outputs": [
    {
     "data": {
      "text/plain": [
       "495"
      ]
     },
     "execution_count": 14,
     "metadata": {},
     "output_type": "execute_result"
    }
   ],
   "source": [
    "len(df_3)"
   ]
  },
  {
   "cell_type": "code",
   "execution_count": 18,
   "id": "afbc39bf",
   "metadata": {},
   "outputs": [],
   "source": [
    "df_3.to_csv(\"sample_dataset_23-25.csv\")"
   ]
  },
  {
   "cell_type": "code",
   "execution_count": 19,
   "id": "6d354c24",
   "metadata": {},
   "outputs": [],
   "source": [
    "df = pd.read_csv(\"sample_dataset_23-25.csv\")"
   ]
  },
  {
   "cell_type": "code",
   "execution_count": 23,
   "id": "d05e645e",
   "metadata": {},
   "outputs": [
    {
     "name": "stdout",
     "output_type": "stream",
     "text": [
      "<class 'pandas.core.frame.DataFrame'>\n",
      "RangeIndex: 495 entries, 0 to 494\n",
      "Data columns (total 9 columns):\n",
      " #   Column        Non-Null Count  Dtype  \n",
      "---  ------        --------------  -----  \n",
      " 0   Unnamed: 0    495 non-null    int64  \n",
      " 1   Date          495 non-null    object \n",
      " 2   Open          495 non-null    float64\n",
      " 3   High          495 non-null    float64\n",
      " 4   Low           495 non-null    float64\n",
      " 5   Close         495 non-null    float64\n",
      " 6   Prev. Close   495 non-null    float64\n",
      " 7   Change        495 non-null    float64\n",
      " 8   % Change      495 non-null    float64\n",
      "dtypes: float64(7), int64(1), object(1)\n",
      "memory usage: 34.9+ KB\n"
     ]
    },
    {
     "data": {
      "text/html": [
       "<div>\n",
       "<style scoped>\n",
       "    .dataframe tbody tr th:only-of-type {\n",
       "        vertical-align: middle;\n",
       "    }\n",
       "\n",
       "    .dataframe tbody tr th {\n",
       "        vertical-align: top;\n",
       "    }\n",
       "\n",
       "    .dataframe thead th {\n",
       "        text-align: right;\n",
       "    }\n",
       "</style>\n",
       "<table border=\"1\" class=\"dataframe\">\n",
       "  <thead>\n",
       "    <tr style=\"text-align: right;\">\n",
       "      <th></th>\n",
       "      <th>Unnamed: 0</th>\n",
       "      <th>Open</th>\n",
       "      <th>High</th>\n",
       "      <th>Low</th>\n",
       "      <th>Close</th>\n",
       "      <th>Prev. Close</th>\n",
       "      <th>Change</th>\n",
       "      <th>% Change</th>\n",
       "    </tr>\n",
       "  </thead>\n",
       "  <tbody>\n",
       "    <tr>\n",
       "      <th>count</th>\n",
       "      <td>495.000000</td>\n",
       "      <td>495.000000</td>\n",
       "      <td>495.000000</td>\n",
       "      <td>495.000000</td>\n",
       "      <td>495.000000</td>\n",
       "      <td>495.000000</td>\n",
       "      <td>495.000000</td>\n",
       "      <td>495.000000</td>\n",
       "    </tr>\n",
       "    <tr>\n",
       "      <th>mean</th>\n",
       "      <td>123.250505</td>\n",
       "      <td>13.562354</td>\n",
       "      <td>14.190242</td>\n",
       "      <td>12.644232</td>\n",
       "      <td>13.562116</td>\n",
       "      <td>13.562354</td>\n",
       "      <td>-0.000162</td>\n",
       "      <td>0.132545</td>\n",
       "    </tr>\n",
       "    <tr>\n",
       "      <th>std</th>\n",
       "      <td>71.519666</td>\n",
       "      <td>2.384558</td>\n",
       "      <td>2.686645</td>\n",
       "      <td>2.203653</td>\n",
       "      <td>2.384533</td>\n",
       "      <td>2.384558</td>\n",
       "      <td>0.830192</td>\n",
       "      <td>5.237653</td>\n",
       "    </tr>\n",
       "    <tr>\n",
       "      <th>min</th>\n",
       "      <td>0.000000</td>\n",
       "      <td>10.135000</td>\n",
       "      <td>10.702500</td>\n",
       "      <td>8.182500</td>\n",
       "      <td>10.135000</td>\n",
       "      <td>10.135000</td>\n",
       "      <td>-7.860000</td>\n",
       "      <td>-29.400000</td>\n",
       "    </tr>\n",
       "    <tr>\n",
       "      <th>25%</th>\n",
       "      <td>61.500000</td>\n",
       "      <td>11.812500</td>\n",
       "      <td>12.252500</td>\n",
       "      <td>11.073750</td>\n",
       "      <td>11.812500</td>\n",
       "      <td>11.812500</td>\n",
       "      <td>-0.350000</td>\n",
       "      <td>-2.540000</td>\n",
       "    </tr>\n",
       "    <tr>\n",
       "      <th>50%</th>\n",
       "      <td>123.000000</td>\n",
       "      <td>13.250000</td>\n",
       "      <td>13.815000</td>\n",
       "      <td>12.340000</td>\n",
       "      <td>13.250000</td>\n",
       "      <td>13.250000</td>\n",
       "      <td>-0.030000</td>\n",
       "      <td>-0.230000</td>\n",
       "    </tr>\n",
       "    <tr>\n",
       "      <th>75%</th>\n",
       "      <td>185.000000</td>\n",
       "      <td>14.588750</td>\n",
       "      <td>15.370000</td>\n",
       "      <td>13.812500</td>\n",
       "      <td>14.583750</td>\n",
       "      <td>14.588750</td>\n",
       "      <td>0.330000</td>\n",
       "      <td>2.585000</td>\n",
       "    </tr>\n",
       "    <tr>\n",
       "      <th>max</th>\n",
       "      <td>247.000000</td>\n",
       "      <td>26.747500</td>\n",
       "      <td>31.710000</td>\n",
       "      <td>23.545000</td>\n",
       "      <td>26.747500</td>\n",
       "      <td>26.747500</td>\n",
       "      <td>6.050000</td>\n",
       "      <td>42.230000</td>\n",
       "    </tr>\n",
       "  </tbody>\n",
       "</table>\n",
       "</div>"
      ],
      "text/plain": [
       "       Unnamed: 0       Open        High         Low       Close   \\\n",
       "count  495.000000  495.000000  495.000000  495.000000  495.000000   \n",
       "mean   123.250505   13.562354   14.190242   12.644232   13.562116   \n",
       "std     71.519666    2.384558    2.686645    2.203653    2.384533   \n",
       "min      0.000000   10.135000   10.702500    8.182500   10.135000   \n",
       "25%     61.500000   11.812500   12.252500   11.073750   11.812500   \n",
       "50%    123.000000   13.250000   13.815000   12.340000   13.250000   \n",
       "75%    185.000000   14.588750   15.370000   13.812500   14.583750   \n",
       "max    247.000000   26.747500   31.710000   23.545000   26.747500   \n",
       "\n",
       "       Prev. Close      Change    % Change   \n",
       "count    495.000000  495.000000  495.000000  \n",
       "mean      13.562354   -0.000162    0.132545  \n",
       "std        2.384558    0.830192    5.237653  \n",
       "min       10.135000   -7.860000  -29.400000  \n",
       "25%       11.812500   -0.350000   -2.540000  \n",
       "50%       13.250000   -0.030000   -0.230000  \n",
       "75%       14.588750    0.330000    2.585000  \n",
       "max       26.747500    6.050000   42.230000  "
      ]
     },
     "execution_count": 23,
     "metadata": {},
     "output_type": "execute_result"
    }
   ],
   "source": [
    "df.head()\n",
    "df.info()\n",
    "df.describe()"
   ]
  },
  {
   "cell_type": "code",
   "execution_count": 25,
   "id": "9b9f12b8",
   "metadata": {},
   "outputs": [],
   "source": [
    "df['Date '] = pd.to_datetime(df['Date '], format='%d-%b-%Y')\n",
    "df = df.sort_values('Date ')\n",
    "df = df.reset_index(drop=True)\n"
   ]
  },
  {
   "cell_type": "code",
   "execution_count": 27,
   "id": "aa7ea717",
   "metadata": {},
   "outputs": [],
   "source": [
    "df.head()\n",
    "df.columns=df.columns.str.strip()"
   ]
  },
  {
   "cell_type": "code",
   "execution_count": 28,
   "id": "d95a8f0d",
   "metadata": {},
   "outputs": [],
   "source": [
    "df['Overnight_NIFTY_Change'] = (df['Open'] - df['Prev. Close'].shift(1)) / df['Prev. Close'].shift(1) * 100"
   ]
  },
  {
   "cell_type": "code",
   "execution_count": 30,
   "id": "3e7b3df3",
   "metadata": {},
   "outputs": [
    {
     "name": "stdout",
     "output_type": "stream",
     "text": [
      "        Date     Open    Close  Overnight_NIFTY_Change\n",
      "0 2023-01-02  14.8675  14.6850                     NaN\n",
      "1 2023-01-03  14.6850  14.3850               -1.227510\n",
      "2 2023-01-04  14.3850  15.1975               -2.042901\n",
      "3 2023-01-05  15.1975  14.9825                5.648245\n",
      "4 2023-01-06  14.9825  15.0250               -1.414706\n",
      "5 2023-01-09  15.0250  14.6525                0.283664\n",
      "6 2023-01-10  14.6525  15.5100               -2.479201\n",
      "7 2023-01-11  15.5100  15.4350                5.852244\n",
      "8 2023-01-12  15.4350  15.2750               -0.483559\n",
      "9 2023-01-13  15.2750  14.4600               -1.036605\n"
     ]
    }
   ],
   "source": [
    "print(df[['Date', 'Open', 'Close', 'Overnight_NIFTY_Change']].head(10))\n",
    "df = df.dropna(subset=['Overnight_NIFTY_Change'])\n"
   ]
  },
  {
   "cell_type": "markdown",
   "id": "db7e0048",
   "metadata": {},
   "source": [
    "Prepare data for modelling"
   ]
  },
  {
   "cell_type": "code",
   "execution_count": 31,
   "id": "864f5317",
   "metadata": {},
   "outputs": [],
   "source": [
    "# Define features and target\n",
    "features = ['Open', 'High', 'Low', 'Prev. Close', 'Overnight_NIFTY_Change']\n",
    "target = 'Close'\n",
    "\n",
    "X = df[features]\n",
    "y = df[target]\n"
   ]
  },
  {
   "cell_type": "code",
   "execution_count": 32,
   "id": "653dd067",
   "metadata": {},
   "outputs": [],
   "source": [
    "train_size = int(len(df) * 0.8)\n",
    "X_train, X_test = X.iloc[:train_size], X.iloc[train_size:]\n",
    "y_train, y_test = y.iloc[:train_size], y.iloc[train_size:]\n"
   ]
  },
  {
   "cell_type": "code",
   "execution_count": 39,
   "id": "75086e76",
   "metadata": {},
   "outputs": [],
   "source": [
    "from sklearn.preprocessing import MinMaxScaler\n",
    "\n",
    "scaler_X = MinMaxScaler()\n",
    "scaler_y = MinMaxScaler()\n",
    "\n",
    "X_train_scaled = scaler_X.fit_transform(X_train)\n",
    "X_test_scaled = scaler_X.transform(X_test)\n",
    "y_train_scaled = scaler_y.fit_transform(y_train.values.reshape(-1,1))\n",
    "y_test_scaled = scaler_y.transform(y_test.values.reshape(-1,1))\n"
   ]
  },
  {
   "cell_type": "code",
   "execution_count": 40,
   "id": "47e31850",
   "metadata": {},
   "outputs": [],
   "source": [
    "from xgboost import XGBRegressor\n",
    "from sklearn.metrics import mean_squared_error\n",
    "import numpy as np\n",
    "\n",
    "model = XGBRegressor(n_estimators=100, learning_rate=0.05)\n",
    "model.fit(X_train_scaled, y_train_scaled.ravel())\n",
    "\n",
    "y_pred_scaled = model.predict(X_test_scaled)\n",
    "y_pred = scaler_y.inverse_transform(y_pred_scaled.reshape(-1,1))\n"
   ]
  },
  {
   "cell_type": "code",
   "execution_count": 41,
   "id": "c4d0b3d1",
   "metadata": {},
   "outputs": [
    {
     "name": "stdout",
     "output_type": "stream",
     "text": [
      "RMSE: 0.7596310487819413\n"
     ]
    }
   ],
   "source": [
    "rmse = np.sqrt(mean_squared_error(y_test, y_pred))\n",
    "print(\"RMSE:\", rmse)\n"
   ]
  },
  {
   "cell_type": "code",
   "execution_count": 45,
   "id": "9ca64967",
   "metadata": {},
   "outputs": [
    {
     "data": {
      "text/html": [
       "<div>\n",
       "<style scoped>\n",
       "    .dataframe tbody tr th:only-of-type {\n",
       "        vertical-align: middle;\n",
       "    }\n",
       "\n",
       "    .dataframe tbody tr th {\n",
       "        vertical-align: top;\n",
       "    }\n",
       "\n",
       "    .dataframe thead th {\n",
       "        text-align: right;\n",
       "    }\n",
       "</style>\n",
       "<table border=\"1\" class=\"dataframe\">\n",
       "  <thead>\n",
       "    <tr style=\"text-align: right;\">\n",
       "      <th></th>\n",
       "      <th>Open</th>\n",
       "      <th>High</th>\n",
       "      <th>Low</th>\n",
       "      <th>Prev. Close</th>\n",
       "      <th>Overnight_NIFTY_Change</th>\n",
       "    </tr>\n",
       "  </thead>\n",
       "  <tbody>\n",
       "    <tr>\n",
       "      <th>494</th>\n",
       "      <td>14.4475</td>\n",
       "      <td>14.835</td>\n",
       "      <td>14.305</td>\n",
       "      <td>14.4475</td>\n",
       "      <td>3.399535</td>\n",
       "    </tr>\n",
       "  </tbody>\n",
       "</table>\n",
       "</div>"
      ],
      "text/plain": [
       "        Open    High     Low  Prev. Close  Overnight_NIFTY_Change\n",
       "494  14.4475  14.835  14.305      14.4475                3.399535"
      ]
     },
     "execution_count": 45,
     "metadata": {},
     "output_type": "execute_result"
    }
   ],
   "source": [
    "X.tail(1)"
   ]
  },
  {
   "cell_type": "code",
   "execution_count": 42,
   "id": "7c9f58d8",
   "metadata": {},
   "outputs": [
    {
     "name": "stdout",
     "output_type": "stream",
     "text": [
      "Predicted Next Day Close: 14.34171\n"
     ]
    }
   ],
   "source": [
    "last_features = X.tail(1)\n",
    "last_scaled = scaler_X.transform(last_features)\n",
    "next_day_pred_scaled = model.predict(last_scaled)\n",
    "next_day_pred = scaler_y.inverse_transform(next_day_pred_scaled.reshape(-1,1))\n",
    "print(\"Predicted Next Day Close:\", next_day_pred[0][0])\n"
   ]
  },
  {
   "cell_type": "code",
   "execution_count": 44,
   "id": "4aeded82",
   "metadata": {},
   "outputs": [
    {
     "name": "stderr",
     "output_type": "stream",
     "text": [
      "Matplotlib is building the font cache; this may take a moment.\n"
     ]
    },
    {
     "data": {
      "image/png": "[encoded data removed]",
      "text/plain": [
       "<Figure size 1000x500 with 1 Axes>"
      ]
     },
     "metadata": {},
     "output_type": "display_data"
    }
   ],
   "source": [
    "import matplotlib.pyplot as plt\n",
    "\n",
    "plt.figure(figsize=(10,5))\n",
    "plt.plot(y_test.index, y_test.values, label='Actual')\n",
    "plt.plot(y_test.index, y_pred, label='Predicted', color='red')\n",
    "plt.title('India VIX Closing Price Forecast')\n",
    "plt.legend()\n",
    "plt.show()\n"
   ]
  },
  {
   "cell_type": "code",
   "execution_count": 46,
   "id": "9a6c4021",
   "metadata": {},
   "outputs": [
    {
     "name": "stdout",
     "output_type": "stream",
     "text": [
      "✅ Model and scalers saved successfully.\n"
     ]
    }
   ],
   "source": [
    "import joblib\n",
    "\n",
    "# Save model\n",
    "joblib.dump(model, 'india_vix_forecast_model.pkl')\n",
    "\n",
    "# Save scalers (since you used MinMaxScaler)\n",
    "joblib.dump(scaler_X, 'scaler_X.pkl')\n",
    "joblib.dump(scaler_y, 'scaler_y.pkl')\n",
    "\n",
    "print(\"✅ Model and scalers saved successfully.\")\n"
   ]
  },
  {
   "cell_type": "code",
   "execution_count": 50,
   "id": "224edcd3",
   "metadata": {},
   "outputs": [
    {
     "name": "stdout",
     "output_type": "stream",
     "text": [
      "Predicted Next Day Close: 14.5018\n"
     ]
    }
   ],
   "source": [
    "model = joblib.load('india_vix_forecast_model.pkl')\n",
    "scaler_X = joblib.load('scaler_X.pkl')\n",
    "scaler_y = joblib.load('scaler_y.pkl')\n",
    "\n",
    "sample_input = X.head(1)\n",
    "new_data_scaled = scaler_X.transform(sample_input)\n",
    "\n",
    "pred_scaled = model.predict(new_data_scaled)\n",
    "predicted_close = scaler_y.inverse_transform(pred_scaled.reshape(-1, 1))\n",
    "print(\"Predicted Next Day Close:\", round(predicted_close[0][0], 4))\n"
   ]
  },
  {
   "cell_type": "code",
   "execution_count": 51,
   "id": "ecb292cb",
   "metadata": {},
   "outputs": [],
   "source": [
    "def predict_next_day_close(open_price, high_price, low_price, prev_close):\n",
    "    model = joblib.load('india_vix_forecast_model.pkl')\n",
    "    scaler_X = joblib.load('scaler_X.pkl')\n",
    "    scaler_y = joblib.load('scaler_y.pkl')\n",
    "\n",
    "    overnight_change = (open_price - prev_close) / prev_close * 100\n",
    "\n",
    "    new_df = pd.DataFrame([{\n",
    "        'Open': open_price,\n",
    "        'High': high_price,\n",
    "        'Low': low_price,\n",
    "        'Prev. Close': prev_close,\n",
    "        'Overnight_NIFTY_Change': overnight_change\n",
    "    }])\n",
    "\n",
    "    new_scaled = scaler_X.transform(new_df)\n",
    "    pred_scaled = model.predict(new_scaled)\n",
    "    predicted_close = scaler_y.inverse_transform(pred_scaled.reshape(-1,1))\n",
    "\n",
    "    return float(predicted_close[0][0])\n"
   ]
  },
  {
   "cell_type": "code",
   "execution_count": 52,
   "id": "d92d50e6",
   "metadata": {},
   "outputs": [
    {
     "name": "stdout",
     "output_type": "stream",
     "text": [
      "Predicted Close for Next Day: 15.0434\n"
     ]
    }
   ],
   "source": [
    "next_close = predict_next_day_close(15.1200, 15.5000, 14.9500, 15.0250)\n",
    "print(\"Predicted Close for Next Day:\", round(next_close, 4))\n"
   ]
  }
 ],
 "metadata": {
  "kernelspec": {
   "display_name": "Python 3",
   "language": "python",
   "name": "python3"
  },
  "language_info": {
   "codemirror_mode": {
    "name": "ipython",
    "version": 3
   },
   "file_extension": ".py",
   "mimetype": "text/x-python",
   "name": "python",
   "nbconvert_exporter": "python",
   "pygments_lexer": "ipython3",
   "version": "3.12.10"
  }
 },
 "nbformat": 4,
 "nbformat_minor": 5
}
